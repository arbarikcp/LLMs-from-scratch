{
 "cells": [
  {
   "cell_type": "markdown",
   "metadata": {},
   "source": [
    "# PyTorch Matrix Operations Tutorial\n",
    "\n",
    "This notebook demonstrates various PyTorch matrix operations including tril, triu, diag, and related methods."
   ]
  },
  {
   "cell_type": "code",
   "execution_count": 1,
   "metadata": {},
   "outputs": [],
   "source": [
    "import torch"
   ]
  },
  {
   "cell_type": "markdown",
   "metadata": {},
   "source": [
    "## 1. Basic Matrix Creation\n",
    "\n",
    "First, let's create a sample matrix to work with:"
   ]
  },
  {
   "cell_type": "code",
   "execution_count": 4,
   "metadata": {},
   "outputs": [
    {
     "name": "stdout",
     "output_type": "stream",
     "text": [
      "Original matrix:\n",
      " tensor([[ 1,  2,  3,  4],\n",
      "        [ 4,  5,  6,  5],\n",
      "        [ 7,  8,  9,  6],\n",
      "        [10, 11, 12,  7]])\n"
     ]
    }
   ],
   "source": [
    "# Create a sample matrix\n",
    "x = torch.tensor([[1, 2, 3,4],\n",
    "                 [4, 5, 6,5],\n",
    "                 [7, 8, 9,6],\n",
    "                 [10,11,12,7]])\n",
    "print(\"Original matrix:\\n\", x)"
   ]
  },
  {
   "cell_type": "markdown",
   "metadata": {},
   "source": [
    "## 2. Lower Triangular Matrix (torch.tril)\n",
    "\n",
    "`torch.tril` returns the lower triangular part of a matrix. The elements above the main diagonal are set to zero."
   ]
  },
  {
   "cell_type": "code",
   "execution_count": 7,
   "metadata": {},
   "outputs": [
    {
     "name": "stdout",
     "output_type": "stream",
     "text": [
      "Lower triangular:\n",
      " tensor([[ 1,  0,  0,  0],\n",
      "        [ 4,  5,  0,  0],\n",
      "        [ 7,  8,  9,  0],\n",
      "        [10, 11, 12,  7]])\n",
      "\n",
      "tril with diagonal=0 (default):\n",
      " tensor([[ 1,  0,  0,  0],\n",
      "        [ 4,  5,  0,  0],\n",
      "        [ 7,  8,  9,  0],\n",
      "        [10, 11, 12,  7]])\n",
      "\n",
      "tril with diagonal=1:\n",
      " tensor([[ 1,  2,  0,  0],\n",
      "        [ 4,  5,  6,  0],\n",
      "        [ 7,  8,  9,  6],\n",
      "        [10, 11, 12,  7]])\n",
      "\n",
      "tril with diagonal=2:\n",
      " tensor([[ 1,  2,  3,  0],\n",
      "        [ 4,  5,  6,  5],\n",
      "        [ 7,  8,  9,  6],\n",
      "        [10, 11, 12,  7]])\n",
      "\n",
      "tril with diagonal=-1:\n",
      " tensor([[ 0,  0,  0,  0],\n",
      "        [ 4,  0,  0,  0],\n",
      "        [ 7,  8,  0,  0],\n",
      "        [10, 11, 12,  0]])\n",
      "\n",
      "tril with diagonal=-2:\n",
      " tensor([[ 0,  0,  0,  0],\n",
      "        [ 0,  0,  0,  0],\n",
      "        [ 7,  0,  0,  0],\n",
      "        [10, 11,  0,  0]])\n"
     ]
    }
   ],
   "source": [
    "# Get lower triangular matrix\n",
    "lower = torch.tril(x)\n",
    "print(\"Lower triangular:\\n\", lower)\n",
    "\n",
    "# With different diagonal parameters\n",
    "print(\"\\ntril with diagonal=0 (default):\\n\", torch.tril(x, diagonal=0))\n",
    "print(\"\\ntril with diagonal=1:\\n\", torch.tril(x, diagonal=1))\n",
    "print(\"\\ntril with diagonal=2:\\n\", torch.tril(x, diagonal=2))\n",
    "print(\"\\ntril with diagonal=-1:\\n\", torch.tril(x, diagonal=-1))\n",
    "print(\"\\ntril with diagonal=-2:\\n\", torch.tril(x, diagonal=-2))"
   ]
  },
  {
   "cell_type": "markdown",
   "metadata": {},
   "source": [
    "## 3. Upper Triangular Matrix (torch.triu)\n",
    "\n",
    "`torch.triu` returns the upper triangular part of a matrix. The elements below the main diagonal are set to zero."
   ]
  },
  {
   "cell_type": "code",
   "execution_count": 8,
   "metadata": {},
   "outputs": [
    {
     "name": "stdout",
     "output_type": "stream",
     "text": [
      "Upper triangular:\n",
      " tensor([[1, 2, 3, 4],\n",
      "        [0, 5, 6, 5],\n",
      "        [0, 0, 9, 6],\n",
      "        [0, 0, 0, 7]])\n",
      "\n",
      "triu with diagonal=0 (default):\n",
      " tensor([[1, 2, 3, 4],\n",
      "        [0, 5, 6, 5],\n",
      "        [0, 0, 9, 6],\n",
      "        [0, 0, 0, 7]])\n",
      "\n",
      "triu with diagonal=1:\n",
      " tensor([[0, 2, 3, 4],\n",
      "        [0, 0, 6, 5],\n",
      "        [0, 0, 0, 6],\n",
      "        [0, 0, 0, 0]])\n",
      "\n",
      "triu with diagonal=-1:\n",
      " tensor([[ 1,  2,  3,  4],\n",
      "        [ 4,  5,  6,  5],\n",
      "        [ 0,  8,  9,  6],\n",
      "        [ 0,  0, 12,  7]])\n"
     ]
    }
   ],
   "source": [
    "# Get upper triangular matrix\n",
    "upper = torch.triu(x)\n",
    "print(\"Upper triangular:\\n\", upper)\n",
    "\n",
    "# With different diagonal parameters\n",
    "print(\"\\ntriu with diagonal=0 (default):\\n\", torch.triu(x, diagonal=0))\n",
    "print(\"\\ntriu with diagonal=1:\\n\", torch.triu(x, diagonal=1))\n",
    "print(\"\\ntriu with diagonal=-1:\\n\", torch.triu(x, diagonal=-1))"
   ]
  },
  {
   "cell_type": "markdown",
   "metadata": {},
   "source": [
    "## 4. Diagonal Operations (torch.diag)\n",
    "\n",
    "`torch.diag` can extract the diagonal elements of a matrix or create a matrix from a diagonal vector."
   ]
  },
  {
   "cell_type": "code",
   "execution_count": 9,
   "metadata": {},
   "outputs": [
    {
     "name": "stdout",
     "output_type": "stream",
     "text": [
      "Diagonal elements: tensor([1, 5, 9, 7])\n",
      "\n",
      "New matrix from diagonal:\n",
      " tensor([[1, 0, 0],\n",
      "        [0, 2, 0],\n",
      "        [0, 0, 3]])\n"
     ]
    }
   ],
   "source": [
    "# Extract diagonal elements\n",
    "diagonal = torch.diag(x)\n",
    "print(\"Diagonal elements:\", diagonal)\n",
    "\n",
    "# Create matrix from diagonal\n",
    "new_matrix = torch.diag(torch.tensor([1, 2, 3]))\n",
    "print(\"\\nNew matrix from diagonal:\\n\", new_matrix)"
   ]
  },
  {
   "cell_type": "markdown",
   "metadata": {},
   "source": [
    "## 5. Flattened Diagonal (torch.diagflat)\n",
    "\n",
    "`torch.diagflat` creates a matrix with the given diagonal elements."
   ]
  },
  {
   "cell_type": "code",
   "execution_count": 10,
   "metadata": {},
   "outputs": [
    {
     "name": "stdout",
     "output_type": "stream",
     "text": [
      "Flattened diagonal matrix:\n",
      " tensor([[1, 0, 0],\n",
      "        [0, 2, 0],\n",
      "        [0, 0, 3]])\n"
     ]
    }
   ],
   "source": [
    "# Create matrix with flattened diagonal\n",
    "flat_diag = torch.diagflat(torch.tensor([1, 2, 3]))\n",
    "print(\"Flattened diagonal matrix:\\n\", flat_diag)"
   ]
  },
  {
   "cell_type": "markdown",
   "metadata": {},
   "source": [
    "## 6. Identity Matrix (torch.eye)\n",
    "\n",
    "`torch.eye` creates an identity matrix of specified size."
   ]
  },
  {
   "cell_type": "code",
   "execution_count": 11,
   "metadata": {},
   "outputs": [
    {
     "name": "stdout",
     "output_type": "stream",
     "text": [
      "Identity matrix:\n",
      " tensor([[1., 0., 0.],\n",
      "        [0., 1., 0.],\n",
      "        [0., 0., 1.]])\n"
     ]
    }
   ],
   "source": [
    "# Create identity matrix\n",
    "identity = torch.eye(3)\n",
    "print(\"Identity matrix:\\n\", identity)"
   ]
  },
  {
   "cell_type": "markdown",
   "metadata": {},
   "source": [
    "## 7. Practical Example: Creating Attention Masks\n",
    "\n",
    "These operations are commonly used in attention mechanisms to create masks."
   ]
  },
  {
   "cell_type": "code",
   "execution_count": 12,
   "metadata": {},
   "outputs": [
    {
     "name": "stdout",
     "output_type": "stream",
     "text": [
      "Causal mask:\n",
      " tensor([[0., 1., 1., 1., 1.],\n",
      "        [0., 0., 1., 1., 1.],\n",
      "        [0., 0., 0., 1., 1.],\n",
      "        [0., 0., 0., 0., 1.],\n",
      "        [0., 0., 0., 0., 0.]])\n",
      "\n",
      "Banded matrix:\n",
      " tensor([[ 1,  2,  0,  0],\n",
      "        [ 4,  5,  6,  0],\n",
      "        [ 0,  8,  9,  6],\n",
      "        [ 0,  0, 12,  7]])\n"
     ]
    }
   ],
   "source": [
    "# Create causal mask for attention\n",
    "context_length = 5\n",
    "mask = torch.triu(torch.ones(context_length, context_length), diagonal=1)\n",
    "print(\"Causal mask:\\n\", mask)\n",
    "\n",
    "# Create banded matrix\n",
    "banded = torch.tril(torch.triu(x, diagonal=-1), diagonal=1)\n",
    "print(\"\\nBanded matrix:\\n\", banded)"
   ]
  }
 ],
 "metadata": {
  "kernelspec": {
   "display_name": "base",
   "language": "python",
   "name": "python3"
  },
  "language_info": {
   "codemirror_mode": {
    "name": "ipython",
    "version": 3
   },
   "file_extension": ".py",
   "mimetype": "text/x-python",
   "name": "python",
   "nbconvert_exporter": "python",
   "pygments_lexer": "ipython3",
   "version": "3.12.2"
  }
 },
 "nbformat": 4,
 "nbformat_minor": 2
}
